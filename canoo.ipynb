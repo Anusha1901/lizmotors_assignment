{
  "nbformat": 4,
  "nbformat_minor": 0,
  "metadata": {
    "colab": {
      "provenance": []
    },
    "kernelspec": {
      "name": "python3",
      "display_name": "Python 3"
    },
    "language_info": {
      "name": "python"
    }
  },
  "cells": [
    {
      "cell_type": "code",
      "source": [
        "from google.colab import drive\n",
        "drive.mount('/content/drive')"
      ],
      "metadata": {
        "colab": {
          "base_uri": "https://localhost:8080/"
        },
        "id": "SlwszwXejJb5",
        "outputId": "7f84fd40-5c14-402f-d269-2930058808e9"
      },
      "execution_count": null,
      "outputs": [
        {
          "output_type": "stream",
          "name": "stdout",
          "text": [
            "Drive already mounted at /content/drive; to attempt to forcibly remount, call drive.mount(\"/content/drive\", force_remount=True).\n"
          ]
        }
      ]
    },
    {
      "cell_type": "code",
      "source": [
        "import pandas as pd\n",
        "import requests\n",
        "from bs4 import BeautifulSoup\n",
        "from duckduckgo_search import DDGS\n",
        "import csv\n",
        "\n",
        "# List of queries\n",
        "queries = [\"Identify the industry in which Canoo operates, along with its size, growth rate, trends, and key players\",\n",
        "           \"Analyze Canoo's main competitors, including their market share, products or services offered, pricing strategies, and marketing efforts\",\n",
        "           \"Identify key trends in the market, including changes in consumer behavior, technological advancements, and shifts in the competitive landscape\",\n",
        "           \"Gather information on Canoo's financial performance, including its revenue, profit margins, return on investment, and expense structure.\"]\n",
        "\n",
        "\n",
        "\n",
        "# Function to extract structured information from the linked page\n",
        "def extract_structured_response(url):\n",
        "    try:\n",
        "        page_response = requests.get(url)\n",
        "        soup = BeautifulSoup(page_response.content, 'html.parser', from_encoding='utf-8')\n",
        "        paragraphs = soup.find_all('p')\n",
        "        structured_response = \"\\n\".join([p.get_text() for p in paragraphs])\n",
        "        return structured_response\n",
        "    except Exception as e:\n",
        "        print(f\"Error fetching content from {url}: {e}\")\n",
        "        return \"\"\n",
        "\n",
        "# Initialize CSV file for saving results\n",
        "output_csv_path = '/content/drive/MyDrive/DATA/output_data.csv'\n",
        "with open(output_csv_path, mode='w', newline='', encoding='utf-8') as file:\n",
        "    writer = csv.writer(file, quoting=csv.QUOTE_ALL)\n",
        "    writer.writerow([\"URL\", \"StructuredResponse\"])\n",
        "\n",
        "    # Loop through queries\n",
        "    for query in queries:\n",
        "        with DDGS() as ddgs:\n",
        "            results = [{'url': r['href']} for r in ddgs.text(query, max_results=10)]\n",
        "\n",
        "            # Loop through search results\n",
        "            for result in results:\n",
        "                url = result.get('url', '')\n",
        "\n",
        "                # Extract structured information using a function\n",
        "                structured_response = extract_structured_response(url)\n",
        "\n",
        "                # Write to CSV\n",
        "                writer.writerow([url, structured_response])\n",
        "\n",
        "# Print a message indicating the export is complete\n",
        "print(\"CSV file exported successfully.\")\n"
      ],
      "metadata": {
        "colab": {
          "base_uri": "https://localhost:8080/"
        },
        "id": "H1_OTOJaHK5x",
        "outputId": "e307b828-19f5-4c3c-eaf0-597b55c4a31a"
      },
      "execution_count": null,
      "outputs": [
        {
          "output_type": "stream",
          "name": "stdout",
          "text": [
            "CSV file exported successfully.\n"
          ]
        }
      ]
    }
  ]
}